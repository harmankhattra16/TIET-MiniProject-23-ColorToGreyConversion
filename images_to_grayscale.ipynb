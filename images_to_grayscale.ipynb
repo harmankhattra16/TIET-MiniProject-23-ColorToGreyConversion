{
  "nbformat": 4,
  "nbformat_minor": 0,
  "metadata": {
    "colab": {
      "provenance": [],
      "authorship_tag": "ABX9TyN1WjoBEdt0xZMJSi8mxBoU",
      "include_colab_link": true
    },
    "kernelspec": {
      "name": "python3",
      "display_name": "Python 3"
    },
    "language_info": {
      "name": "python"
    }
  },
  "cells": [
    {
      "cell_type": "markdown",
      "metadata": {
        "id": "view-in-github",
        "colab_type": "text"
      },
      "source": [
        "<a href=\"https://colab.research.google.com/github/harmankhattra16/OpenCV_Mini_Projects/blob/main/images_to_grayscale.ipynb\" target=\"_parent\"><img src=\"https://colab.research.google.com/assets/colab-badge.svg\" alt=\"Open In Colab\"/></a>"
      ]
    },
    {
      "cell_type": "code",
      "execution_count": 20,
      "metadata": {
        "id": "gVIY2CHsTBrh"
      },
      "outputs": [],
      "source": [
        "pip install opencv-python --quiet"
      ]
    },
    {
      "cell_type": "code",
      "source": [
        "!pip install opendatasets --quiet\n",
        "import opendatasets as od"
      ],
      "metadata": {
        "id": "exFUsGOuYQTo"
      },
      "execution_count": 28,
      "outputs": []
    },
    {
      "cell_type": "code",
      "source": [
        "od.download(\"https://www.kaggle.com/datasets/alxmamaev/flowers-recognition\")"
      ],
      "metadata": {
        "colab": {
          "base_uri": "https://localhost:8080/"
        },
        "id": "YS7g5cLNY5uL",
        "outputId": "33b5df9a-9105-4d09-b343-50214db1793a"
      },
      "execution_count": 30,
      "outputs": [
        {
          "output_type": "stream",
          "name": "stdout",
          "text": [
            "Please provide your Kaggle credentials to download this dataset. Learn more: http://bit.ly/kaggle-creds\n",
            "Your Kaggle username: harmankhattra\n",
            "Your Kaggle Key: ··········\n",
            "Dataset URL: https://www.kaggle.com/datasets/alxmamaev/flowers-recognition\n",
            "Downloading flowers-recognition.zip to ./flowers-recognition\n"
          ]
        },
        {
          "output_type": "stream",
          "name": "stderr",
          "text": [
            "100%|██████████| 225M/225M [00:00<00:00, 647MB/s]\n"
          ]
        },
        {
          "output_type": "stream",
          "name": "stdout",
          "text": [
            "\n"
          ]
        }
      ]
    },
    {
      "cell_type": "code",
      "source": [
        "import os\n",
        "import shutil\n",
        "import random\n",
        "\n",
        "# Original dataset folder\n",
        "source_dir = \"flowers-recognition/flowers\"\n",
        "\n",
        "# Create input_images folder with 100 random images\n",
        "input_folder = \"input_images\"\n",
        "os.makedirs(input_folder, exist_ok=True)\n",
        "\n",
        "# Get list of image paths from all class folders\n",
        "image_paths = []\n",
        "for root, dirs, files in os.walk(source_dir):\n",
        "    for file in files:\n",
        "        if file.lower().endswith(('.jpg', '.jpeg', '.png')):\n",
        "            image_paths.append(os.path.join(root, file))\n",
        "\n",
        "# Randomly select 100 images\n",
        "selected_images = random.sample(image_paths, 100)\n",
        "\n",
        "# Copy to input_images\n",
        "for path in selected_images:\n",
        "    shutil.copy(path, input_folder)\n",
        "\n",
        "print(\"100 images copied to:\", input_folder)\n"
      ],
      "metadata": {
        "colab": {
          "base_uri": "https://localhost:8080/"
        },
        "id": "VSMszLmbZIHr",
        "outputId": "72f16a71-ecd7-47ac-ab02-33276f7269d9"
      },
      "execution_count": 33,
      "outputs": [
        {
          "output_type": "stream",
          "name": "stdout",
          "text": [
            "100 images copied to: input_images\n"
          ]
        }
      ]
    },
    {
      "cell_type": "code",
      "source": [
        "import cv2\n",
        "\n",
        "output_folder = \"grayscale_images\"\n",
        "os.makedirs(output_folder, exist_ok=True)\n",
        "\n",
        "for filename in os.listdir(input_folder):\n",
        "    if filename.lower().endswith(('.jpg', '.jpeg', '.png', '.bmp')):\n",
        "        input_path = os.path.join(input_folder, filename)\n",
        "        output_path = os.path.join(output_folder, filename)\n",
        "\n",
        "        img = cv2.imread(input_path)\n",
        "        if img is None:\n",
        "            print(f\"Failed to read: {filename}\")\n",
        "            continue\n",
        "\n",
        "        gray_img = cv2.cvtColor(img, cv2.COLOR_BGR2GRAY)\n",
        "        cv2.imwrite(output_path, gray_img)\n",
        "        print(f\"Converted: {filename}\")\n",
        "\n",
        "print(\"All 100 images converted to grayscale.\")\n"
      ],
      "metadata": {
        "colab": {
          "base_uri": "https://localhost:8080/"
        },
        "id": "2BPf8mgCZLFh",
        "outputId": "8815fc3a-f36f-4696-834d-b6e8f2369a4e"
      },
      "execution_count": 34,
      "outputs": [
        {
          "output_type": "stream",
          "name": "stdout",
          "text": [
            "Converted: 20078409301_aa8061bd0b_n.jpg\n",
            "Converted: 3568925290_faf7aec3a0.jpg\n",
            "Converted: tulips.jpg\n",
            "Converted: 19064700925_b93d474e37.jpg\n",
            "Converted: 9338237628_4d2547608c.jpg\n",
            "Converted: 14373114081_7922bcf765_n.jpg\n",
            "Converted: 18464084356_0d2d93f896_n.jpg\n",
            "Converted: 5679288570_b4c52e76d5.jpg\n",
            "Converted: 33890085903_0e10553b27_n.jpg\n",
            "Converted: 898102603_2d5152f09a.jpg\n",
            "Converted: 18376177250_86060cbdc9.jpg\n",
            "Converted: 4890268276_563f40a193.jpg\n",
            "Converted: 3704305945_a80e60e2f6_m.jpg\n",
            "Converted: 15495578821_92c6d14252_n.jpg\n",
            "Converted: 5673112305_02fe19297b_n.jpg\n",
            "Converted: 15274443248_76b9f3eb24.jpg\n",
            "Converted: 494108764_e00178af6e.jpg\n",
            "Converted: 9529916092_de70623523_n.jpg\n",
            "Converted: 15207507116_8b7f894508_m.jpg\n",
            "Converted: 20289938802_e16fa9f23d.jpg\n",
            "Converted: 5973935729_2868f2db1f_n.jpg\n",
            "Converted: 148180650_19a4b410db.jpg\n",
            "Converted: 33878218914_452600b869_n.jpg\n",
            "Converted: 5002456302_e3d2600c17_n.jpg\n",
            "Converted: 6931708704_fccb06fea8.jpg\n",
            "Converted: 5744236092_de84b4e38d_n.jpg\n",
            "Converted: 5110110938_9da91455c4_m.jpg\n",
            "Converted: 16025261368_911703a536_n.jpg\n",
            "Converted: 5502949025_96d11a17ff_n.jpg\n",
            "Converted: 8094774544_35465c1c64.jpg\n",
            "Converted: 19600096066_67dc941042.jpg\n",
            "Converted: 14460081668_eda8795693_m.jpg\n",
            "Converted: 22478719251_276cb094f9_n.jpg\n",
            "Converted: 5693489465_2d0b2e4eb2_n.jpg\n",
            "Converted: 3588872598_e0f9a1d2a1_m.jpg\n",
            "Converted: 14283011_3e7452c5b2_n.jpg\n",
            "Converted: 7416083788_fcb4c4f27e_n.jpg\n",
            "Converted: 3939135368_0af5c4982a_n.jpg\n",
            "Converted: 3146795631_d062f233c1.jpg\n",
            "Converted: 18760363474_a707331322_n.jpg\n",
            "Converted: 2670304799_a3f2eef516_m.jpg\n",
            "Converted: 2598486434_bf349854f2_m.jpg\n",
            "Converted: 2351637471_5dd34fd3ac_n.jpg\n",
            "Converted: 8980164828_04fbf64f79_n.jpg\n",
            "Converted: 4117918318_3c8935289b_m.jpg\n",
            "Converted: 13999392173_b1411f8b23_n.jpg\n",
            "Converted: 8838983024_5c1a767878_n.jpg\n",
            "Converted: 34662996866_af256e8f10_n.jpg\n",
            "Converted: 14925398301_55a180f919_n.jpg\n",
            "Converted: 8705462313_4458d64cd4.jpg\n",
            "Converted: 5795159787_ebb51a5e75.jpg\n",
            "Converted: 3196753837_411b03682d_n.jpg\n",
            "Converted: 6053143173_991c011b23.jpg\n",
            "Converted: 9481563239_01b585b41d_n.jpg\n",
            "Converted: 4650752466_ed088e0d85_n.jpg\n",
            "Converted: 34586667251_bfda649f33_n.jpg\n",
            "Converted: 5335936311_390e8ed5d9_n.jpg\n",
            "Converted: 34721329895_529f999fb6_n.jpg\n",
            "Converted: 16680930777_7e7f292fc5_n.jpg\n",
            "Converted: 8642943283_47e44d049d_m.jpg\n",
            "Converted: 2053476785_c162a3e358.jpg\n",
            "Converted: 5768217474_f6b1eef6d5_n.jpg\n",
            "Converted: 1022552002_2b93faf9e7_n.jpg\n",
            "Converted: 7247192002_39b79998f0_n.jpg\n",
            "Converted: 16680927427_07ca6e4552_n.jpg\n",
            "Converted: 5223191368_01aedb6547_n.jpg\n",
            "Converted: 8717787983_c83bdf39fe_n.jpg\n",
            "Converted: 7132482331_01769e36e9_n.jpg\n",
            "Converted: 14064731501_ea14b58161.jpg\n",
            "Converted: 34711474235_507d286bce_n.jpg\n",
            "Converted: 9410186154_465642ed35.jpg\n",
            "Converted: 20183071136_c297e74fcc_m.jpg\n",
            "Converted: 21084189635_425ca69aa0_n.jpg\n",
            "Converted: 8120563761_ed5620664f_m.jpg\n",
            "Converted: 18587334446_ef1021909b_n.jpg\n",
            "Converted: 909277823_e6fb8cb5c8_n.jpg\n",
            "Converted: 18464065816_88f194a890_n.jpg\n",
            "Converted: 14928117202_139d2142cc_n.jpg\n",
            "Converted: 3554620445_082dd0bec4_n.jpg\n",
            "Converted: 14907815010_bff495449f.jpg\n",
            "Converted: 8842482175_92a14b4934_m.jpg\n",
            "Converted: 5335946401_f49bfbe3f9_n.jpg\n",
            "Converted: 33877161494_05686b7f7a_n.jpg\n",
            "Converted: 2479956481_8d1a9699be_n.jpg\n",
            "Converted: 135994133_4f306fe4bf_n.jpg\n",
            "Converted: 7285188160_49d84b95a3_m.jpg\n",
            "Converted: 9216321995_83df405ea9.jpg\n",
            "Converted: 12916441224_2ed63596f8_n.jpg\n",
            "Converted: 17570530696_6a497298ee_n.jpg\n",
            "Converted: 34585995071_13e07140d8_n.jpg\n",
            "Converted: 4820415253_15bc3b6833_n.jpg\n",
            "Converted: 9320934277_4fb95aef5d_n.jpg\n",
            "Converted: 9310226774_d1b8f5d9c9.jpg\n",
            "Converted: 107592979_aaa9cdfe78_m.jpg\n",
            "Converted: 17869846573_d6c9c39843_n.jpg\n",
            "Converted: 5693492187_dc46424be3_n.jpg\n",
            "Converted: 3857059749_fe8ca621a9.jpg\n",
            "Converted: 5674134129_2db5136cba.jpg\n",
            "Converted: 3476945045_97ff41e8ec_n.jpg\n",
            "Converted: 12891819633_e4c82b51e8.jpg\n",
            "Converted: 1353279846_7e6b87606d.jpg\n",
            "Converted: 16424992340_c1d9eb72b4.jpg\n",
            "Converted: 34540113401_b81594e92a_n.jpg\n",
            "Converted: 20112366233_d6cb3b6e15_n.jpg\n",
            "Converted: 2706304885_4916102704_n.jpg\n",
            "Converted: 9726260379_4e8ee66875_m.jpg\n",
            "Converted: 4668543441_79040ca329_n.jpg\n",
            "Converted: 3.jpg\n",
            "Converted: 160954292_6c2b4fda65_n.jpg\n",
            "Converted: 33891398493_e0b6d7f683_n.jpg\n",
            "Converted: 22982871191_ec61e36939_n.jpg\n",
            "Converted: 476857510_d2b30175de_n.jpg\n",
            "Converted: 17357636476_1953c07aa4_n.jpg\n",
            "Converted: 4440480869_632ce6aff3_n.jpg\n",
            "Converted: 1801614110_bb9fa46830.jpg\n",
            "Converted: 2019520447_48b2354a20_m.jpg\n",
            "Converted: 9759608055_9ab623d193.jpg\n",
            "Converted: 2497301920_91490c42c0.jpg\n",
            "Converted: 2831102668_eb65cd40b9_n.jpg\n",
            "Converted: 5061135742_2870a7b691_n.jpg\n",
            "Converted: 5028817729_f04d32bac8_n.jpg\n",
            "Converted: 5512287917_9f5d3f0f98_n.jpg\n",
            "Converted: 15987457_49dc11bf4b.jpg\n",
            "Converted: 33878004304_a7c823115b_n.jpg\n",
            "Converted: 18996760154_58d3c48604.jpg\n",
            "Converted: 9094631844_1a6abca29e.jpg\n",
            "Converted: 5024965767_230f140d60_n.jpg\n",
            "Converted: 16568537758_67eb281aab_n.jpg\n",
            "Converted: 3900172983_9312fdf39c_n.jpg\n",
            "Converted: 8681169825_19a21c6bf5_m.jpg\n",
            "Converted: 4877195645_791c3a83b9_m.jpg\n",
            "Converted: 13897156242_dca5d93075_m.jpg\n",
            "Converted: 32558425090_d6b6e86d85_n.jpg\n",
            "Converted: 8979087213_28f572174c.jpg\n",
            "Converted: 99383371_37a5ac12a3_n.jpg\n",
            "Converted: 215798354_429de28c2d.jpg\n",
            "Converted: 6954604340_d3223ed296_m.jpg\n",
            "Converted: 2963905796_227d37ff12.jpg\n",
            "Converted: 483444865_65962cea07_m.jpg\n",
            "Converted: 2735666555_01d53e74fe.jpg\n",
            "Converted: 16766166609_ccb8344c9f_m.jpg\n",
            "Converted: 6482016439_b0d06dac04.jpg\n",
            "Converted: 15760811380_4d686c892b_n.jpg\n",
            "Converted: 15066430311_fb57fa92b0_m.jpg\n",
            "Converted: 11614202956_1dcf1c96a1.jpg\n",
            "Converted: 9300754115_dd79670066_n.jpg\n",
            "Converted: 6998661030_46cbb7892a.jpg\n",
            "Converted: 14067476586_36bcddf111.jpg\n",
            "Converted: 13954659583_03981dea99_n.jpg\n",
            "Converted: 10993710036_2033222c91.jpg\n",
            "Converted: 5632006303_15acd2cf1e_n.jpg\n",
            "Converted: 18302793940_8fcc8b4661_n.jpg\n",
            "Converted: 8684108_a85764b22d_n.jpg\n",
            "Converted: 4694341873_65fe187a4e_n.jpg\n",
            "Converted: 10172567486_2748826a8b.jpg\n",
            "Converted: 5628296138_9031791fab.jpg\n",
            "Converted: 7280221020_98b473b20d_n.jpg\n",
            "Converted: 7654774598_6b715a8d3e.jpg\n",
            "Converted: 16756239775_75e84a3d50_n.jpg\n",
            "Converted: 14211880544_5d1f9d5aa8_n.jpg\n",
            "Converted: 489506904_9b68ba211c.jpg\n",
            "Converted: 570127230_ce409f90f8_n.jpg\n",
            "Converted: 7262863194_682209e9fb.jpg\n",
            "Converted: 17908793211_ff0f1f81d3_n.jpg\n",
            "Converted: 7481217920_6f65766a1c_n.jpg\n",
            "Converted: 10862313945_e8ed9202d9_m.jpg\n",
            "Converted: 494803274_f84f21d53a.jpg\n",
            "Converted: 4613992315_143ccc2a10_m.jpg\n",
            "Converted: 14061132852_89122de5f9_n.jpg\n",
            "Converted: 14414100710_753a36fce9.jpg\n",
            "Converted: 5115925320_ed9ca5b2d1_n.jpg\n",
            "Converted: 7633425046_8293e3d0e9_m.jpg\n",
            "Converted: 17066862602_7530f21efe.jpg\n",
            "Converted: 105806915_a9c13e2106_n.jpg\n",
            "Converted: 3731075939_6c92d7fe68_m.jpg\n",
            "Converted: 2444241718_3ca53ce921.jpg\n",
            "Converted: 34536491752_dd130e7b79_n.jpg\n",
            "Converted: 5956627065_075880a1cc_n.jpg\n",
            "Converted: 2389720627_8923180b19.jpg\n",
            "Converted: 3483575184_cb8d16a083_n.jpg\n",
            "Converted: 4794180388_c7b9294aef_n.jpg\n",
            "Converted: 7474126248_889a026929_n.jpg\n",
            "Converted: 14235021006_dd001ea8ed_n.jpg\n",
            "Converted: 2683330456_0f7bbce110_m.jpg\n",
            "Converted: 2465573725_d78caca9d4_n.jpg\n",
            "Converted: 14054827092_f359f5fcbd_m.jpg\n",
            "Converted: 17105644339_e301a8a6be_n.jpg\n",
            "Converted: 4657801292_73bef15031.jpg\n",
            "Converted: 2949654221_909b0c86a1_n.jpg\n",
            "Converted: 13176576813_50e77cc1d9.jpg\n",
            "Converted: 8035910225_125beceb98_n.jpg\n",
            "Converted: 18492302751_cf6a5a583e_n.jpg\n",
            "Converted: 22203670478_9ec5c2700b_n.jpg\n",
            "Converted: 18492342231_c074b4b19c_n.jpg\n",
            "Converted: 4495885281_fe2a3b671d.jpg\n",
            "Converted: 459042023_6273adc312_n.jpg\n",
            "Converted: 6208857436_14a65fe4af_n.jpg\n",
            "Converted: 15881325303_f00807a051_n.jpg\n",
            "Converted: 33879354664_615c72773d_n.jpg\n",
            "All 100 images converted to grayscale.\n"
          ]
        }
      ]
    }
  ]
}